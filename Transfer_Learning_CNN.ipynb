{
 "cells": [
  {
   "cell_type": "code",
   "execution_count": 3,
   "id": "feb9d274",
   "metadata": {
    "id": "feb9d274"
   },
   "outputs": [],
   "source": [
    "import pandas as pd\n",
    "import tensorflow as tf \n",
    "from keras.datasets import cifar10\n",
    "import tensorflow.keras as K\n",
    "from keras import backend as Kb\n",
    "from keras.models import Sequential\n",
    "from keras.layers import Dense, Dropout, Flatten, Activation\n",
    "from keras.layers import Conv2D, MaxPooling2D,BatchNormalization,AveragePooling2D\n",
    "from keras.utils.vis_utils import plot_model\n",
    "from keras import utils as np_utils\n",
    "from tensorflow.keras.utils import to_categorical"
   ]
  },
  {
   "cell_type": "code",
   "execution_count": null,
   "id": "d970a200",
   "metadata": {},
   "outputs": [],
   "source": []
  },
  {
   "cell_type": "code",
   "execution_count": 4,
   "id": "302e98a4",
   "metadata": {
    "id": "302e98a4"
   },
   "outputs": [],
   "source": [
    "#Preprocessing the data\n",
    "def preprocess_data(X,Y):\n",
    "  X_p = K.applications.xception.preprocess_input(X)\n",
    "  Y_p = K.utils.to_categorical(Y,10)\n",
    "  return X_p, Y_p"
   ]
  },
  {
   "cell_type": "code",
   "execution_count": 5,
   "id": "47414dfa",
   "metadata": {
    "colab": {
     "base_uri": "https://localhost:8080/"
    },
    "id": "47414dfa",
    "outputId": "48223e44-6e62-4afb-9246-d3d866b83e1c"
   },
   "outputs": [
    {
     "name": "stdout",
     "output_type": "stream",
     "text": [
      "Downloading data from https://www.cs.toronto.edu/~kriz/cifar-10-python.tar.gz\n",
      "170498071/170498071 [==============================] - 77s 0us/step\n",
      "x_train shape: (50000, 32, 32, 3)\n",
      "y_train shape: (50000, 1)\n",
      "x_test shape: (10000, 32, 32, 3)\n",
      "y_test shape: (10000, 1)\n"
     ]
    }
   ],
   "source": [
    "(x_train, y_train), (x_test, y_test) = cifar10.load_data()\n",
    "img_rows, img_cols = 32, 32\n",
    "print('x_train shape:', x_train.shape)\n",
    "print('y_train shape:', y_train.shape)\n",
    "print('x_test shape:', x_test.shape)\n",
    "print('y_test shape:', y_test.shape)"
   ]
  },
  {
   "cell_type": "code",
   "execution_count": 6,
   "id": "5266fa97",
   "metadata": {
    "id": "5266fa97"
   },
   "outputs": [],
   "source": [
    "# pooling removing the boders\n",
    "if Kb.image_data_format() == 'channels_first':\n",
    "  x_train = x_train.reshape(x_train.shape[0], 3, img_rows, img_cols)\n",
    "  x_test = x_test.reshape(x_test.shape[0], 3, img_rows, img_cols)\n",
    "  input_shape = (3, img_rows, img_cols)\n",
    "else:\n",
    "  x_train = x_train.reshape(x_train.shape[0], img_rows, img_cols, 3)\n",
    "  x_test = x_test.reshape(x_test.shape[0], img_rows, img_cols, 3)\n",
    "  input_shape = (img_rows, img_cols, 3)"
   ]
  },
  {
   "cell_type": "code",
   "execution_count": 7,
   "id": "6395a3e0",
   "metadata": {
    "id": "6395a3e0"
   },
   "outputs": [],
   "source": [
    "#Preprocessing the data\n",
    "x_train, y_train = preprocess_data(x_train, y_train)\n",
    "x_test, y_test = preprocess_data(x_test, y_test)"
   ]
  },
  {
   "cell_type": "code",
   "execution_count": 8,
   "id": "ef1e1dca",
   "metadata": {
    "colab": {
     "base_uri": "https://localhost:8080/"
    },
    "id": "ef1e1dca",
    "outputId": "8af5b5d9-4ae9-4785-cd43-8d3d5bcde06f"
   },
   "outputs": [
    {
     "name": "stdout",
     "output_type": "stream",
     "text": [
      "Downloading data from https://storage.googleapis.com/tensorflow/keras-applications/xception/xception_weights_tf_dim_ordering_tf_kernels_notop.h5\n",
      "83683744/83683744 [==============================] - 4s 0us/step\n"
     ]
    }
   ],
   "source": [
    "# Resizing all the images\n",
    "input_t = K.Input(shape=(32,32,3))\n",
    "xception_model = K.applications.Xception(include_top=False,\n",
    "                                    weights=\"imagenet\",\n",
    "                                    input_tensor=input_t)"
   ]
  },
  {
   "cell_type": "code",
   "execution_count": 9,
   "id": "45784132",
   "metadata": {
    "id": "45784132"
   },
   "outputs": [],
   "source": [
    "#Each layer \n",
    "for layer in xception_model.layers[:10]:\n",
    "  layer.trainable=False"
   ]
  },
  {
   "cell_type": "code",
   "execution_count": 10,
   "id": "635afe98",
   "metadata": {
    "colab": {
     "base_uri": "https://localhost:8080/"
    },
    "id": "635afe98",
    "outputId": "632ed3b0-44c1-4b25-ef58-aaea61b0fba1"
   },
   "outputs": [
    {
     "name": "stdout",
     "output_type": "stream",
     "text": [
      "0 input_1 - False\n",
      "1 block1_conv1 - False\n",
      "2 block1_conv1_bn - False\n",
      "3 block1_conv1_act - False\n",
      "4 block1_conv2 - False\n",
      "5 block1_conv2_bn - False\n",
      "6 block1_conv2_act - False\n",
      "7 block2_sepconv1 - False\n",
      "8 block2_sepconv1_bn - False\n",
      "9 block2_sepconv2_act - False\n",
      "10 block2_sepconv2 - True\n",
      "11 block2_sepconv2_bn - True\n",
      "12 conv2d - True\n",
      "13 block2_pool - True\n",
      "14 batch_normalization - True\n",
      "15 add - True\n",
      "16 block3_sepconv1_act - True\n",
      "17 block3_sepconv1 - True\n",
      "18 block3_sepconv1_bn - True\n",
      "19 block3_sepconv2_act - True\n",
      "20 block3_sepconv2 - True\n",
      "21 block3_sepconv2_bn - True\n",
      "22 conv2d_1 - True\n",
      "23 block3_pool - True\n",
      "24 batch_normalization_1 - True\n",
      "25 add_1 - True\n",
      "26 block4_sepconv1_act - True\n",
      "27 block4_sepconv1 - True\n",
      "28 block4_sepconv1_bn - True\n",
      "29 block4_sepconv2_act - True\n",
      "30 block4_sepconv2 - True\n",
      "31 block4_sepconv2_bn - True\n",
      "32 conv2d_2 - True\n",
      "33 block4_pool - True\n",
      "34 batch_normalization_2 - True\n",
      "35 add_2 - True\n",
      "36 block5_sepconv1_act - True\n",
      "37 block5_sepconv1 - True\n",
      "38 block5_sepconv1_bn - True\n",
      "39 block5_sepconv2_act - True\n",
      "40 block5_sepconv2 - True\n",
      "41 block5_sepconv2_bn - True\n",
      "42 block5_sepconv3_act - True\n",
      "43 block5_sepconv3 - True\n",
      "44 block5_sepconv3_bn - True\n",
      "45 add_3 - True\n",
      "46 block6_sepconv1_act - True\n",
      "47 block6_sepconv1 - True\n",
      "48 block6_sepconv1_bn - True\n",
      "49 block6_sepconv2_act - True\n",
      "50 block6_sepconv2 - True\n",
      "51 block6_sepconv2_bn - True\n",
      "52 block6_sepconv3_act - True\n",
      "53 block6_sepconv3 - True\n",
      "54 block6_sepconv3_bn - True\n",
      "55 add_4 - True\n",
      "56 block7_sepconv1_act - True\n",
      "57 block7_sepconv1 - True\n",
      "58 block7_sepconv1_bn - True\n",
      "59 block7_sepconv2_act - True\n",
      "60 block7_sepconv2 - True\n",
      "61 block7_sepconv2_bn - True\n",
      "62 block7_sepconv3_act - True\n",
      "63 block7_sepconv3 - True\n",
      "64 block7_sepconv3_bn - True\n",
      "65 add_5 - True\n",
      "66 block8_sepconv1_act - True\n",
      "67 block8_sepconv1 - True\n",
      "68 block8_sepconv1_bn - True\n",
      "69 block8_sepconv2_act - True\n",
      "70 block8_sepconv2 - True\n",
      "71 block8_sepconv2_bn - True\n",
      "72 block8_sepconv3_act - True\n",
      "73 block8_sepconv3 - True\n",
      "74 block8_sepconv3_bn - True\n",
      "75 add_6 - True\n",
      "76 block9_sepconv1_act - True\n",
      "77 block9_sepconv1 - True\n",
      "78 block9_sepconv1_bn - True\n",
      "79 block9_sepconv2_act - True\n",
      "80 block9_sepconv2 - True\n",
      "81 block9_sepconv2_bn - True\n",
      "82 block9_sepconv3_act - True\n",
      "83 block9_sepconv3 - True\n",
      "84 block9_sepconv3_bn - True\n",
      "85 add_7 - True\n",
      "86 block10_sepconv1_act - True\n",
      "87 block10_sepconv1 - True\n",
      "88 block10_sepconv1_bn - True\n",
      "89 block10_sepconv2_act - True\n",
      "90 block10_sepconv2 - True\n",
      "91 block10_sepconv2_bn - True\n",
      "92 block10_sepconv3_act - True\n",
      "93 block10_sepconv3 - True\n",
      "94 block10_sepconv3_bn - True\n",
      "95 add_8 - True\n",
      "96 block11_sepconv1_act - True\n",
      "97 block11_sepconv1 - True\n",
      "98 block11_sepconv1_bn - True\n",
      "99 block11_sepconv2_act - True\n",
      "100 block11_sepconv2 - True\n",
      "101 block11_sepconv2_bn - True\n",
      "102 block11_sepconv3_act - True\n",
      "103 block11_sepconv3 - True\n",
      "104 block11_sepconv3_bn - True\n",
      "105 add_9 - True\n",
      "106 block12_sepconv1_act - True\n",
      "107 block12_sepconv1 - True\n",
      "108 block12_sepconv1_bn - True\n",
      "109 block12_sepconv2_act - True\n",
      "110 block12_sepconv2 - True\n",
      "111 block12_sepconv2_bn - True\n",
      "112 block12_sepconv3_act - True\n",
      "113 block12_sepconv3 - True\n",
      "114 block12_sepconv3_bn - True\n",
      "115 add_10 - True\n",
      "116 block13_sepconv1_act - True\n",
      "117 block13_sepconv1 - True\n",
      "118 block13_sepconv1_bn - True\n",
      "119 block13_sepconv2_act - True\n",
      "120 block13_sepconv2 - True\n",
      "121 block13_sepconv2_bn - True\n",
      "122 conv2d_3 - True\n",
      "123 block13_pool - True\n",
      "124 batch_normalization_3 - True\n",
      "125 add_11 - True\n",
      "126 block14_sepconv1 - True\n",
      "127 block14_sepconv1_bn - True\n",
      "128 block14_sepconv1_act - True\n",
      "129 block14_sepconv2 - True\n",
      "130 block14_sepconv2_bn - True\n",
      "131 block14_sepconv2_act - True\n"
     ]
    }
   ],
   "source": [
    "for i, layer in enumerate(xception_model.layers):\n",
    "  print(i,layer.name,\"-\",layer.trainable)"
   ]
  },
  {
   "cell_type": "code",
   "execution_count": 11,
   "id": "43c9b7cd",
   "metadata": {
    "id": "43c9b7cd"
   },
   "outputs": [],
   "source": [
    "model = Sequential()\n",
    "model.add(Conv2D(filters = 32, kernel_size = (3,3), padding='same', input_shape = input_shape))\n",
    "model.add(Activation('relu'))\n",
    "model.add(BatchNormalization())\n",
    "model.add(Conv2D(filters = 32, kernel_size = (3,3), padding='same'))\n",
    "model.add(Activation('relu'))\n",
    "model.add(BatchNormalization())\n",
    "model.add(MaxPooling2D(2,2))\n",
    "model.add(Dropout(0.2))\n",
    "\n",
    "model.add(Conv2D(filters = 64, kernel_size = (3,3), padding='same'))\n",
    "model.add(Activation('relu'))\n",
    "model.add(BatchNormalization())\n",
    "model.add(Conv2D(filters = 64, kernel_size = (3,3), padding='same'))\n",
    "model.add(Activation('relu'))\n",
    "model.add(BatchNormalization())\n",
    "model.add(MaxPooling2D(2,2))\n",
    "model.add(Dropout(0.3))\n",
    "\n",
    "model.add(Conv2D(filters = 128, kernel_size = (3,3), padding='same'))\n",
    "model.add(Activation('relu'))\n",
    "model.add(BatchNormalization())\n",
    "model.add(Conv2D(filters = 128, kernel_size = (3,3), padding='same'))\n",
    "model.add(Activation('relu'))\n",
    "model.add(BatchNormalization())\n",
    "model.add(MaxPooling2D(2,2))\n",
    "model.add(Dropout(0.4))\n",
    "\n",
    "model.add(Flatten())\n",
    "\n",
    "model.add(Dense(units = 10, activation = 'softmax'))"
   ]
  },
  {
   "cell_type": "code",
   "execution_count": 12,
   "id": "b02561b3",
   "metadata": {
    "colab": {
     "background_save": true,
     "base_uri": "https://localhost:8080/"
    },
    "id": "b02561b3",
    "outputId": "01e6c519-b8c8-4a12-f4a5-ecf1ce15a456"
   },
   "outputs": [
    {
     "name": "stderr",
     "output_type": "stream",
     "text": [
      "WARNING:absl:`lr` is deprecated, please use `learning_rate` instead, or use the legacy optimizer, e.g.,tf.keras.optimizers.legacy.RMSprop.\n"
     ]
    },
    {
     "name": "stdout",
     "output_type": "stream",
     "text": [
      "Epoch 1/20\n",
      "782/782 [==============================] - 200s 252ms/step - loss: 1.7659 - accuracy: 0.4672 - val_loss: 1.2081 - val_accuracy: 0.5916\n",
      "Epoch 2/20\n",
      "782/782 [==============================] - 198s 253ms/step - loss: 1.1023 - accuracy: 0.6410 - val_loss: 1.5177 - val_accuracy: 0.6533\n",
      "Epoch 3/20\n",
      "782/782 [==============================] - 189s 242ms/step - loss: 0.8686 - accuracy: 0.7083 - val_loss: 0.7950 - val_accuracy: 0.7336\n",
      "Epoch 4/20\n",
      "782/782 [==============================] - 314s 401ms/step - loss: 0.7374 - accuracy: 0.7499 - val_loss: 0.8324 - val_accuracy: 0.7352\n",
      "Epoch 5/20\n",
      "782/782 [==============================] - 209s 267ms/step - loss: 0.6495 - accuracy: 0.7797 - val_loss: 0.6467 - val_accuracy: 0.7840\n",
      "Epoch 6/20\n",
      "782/782 [==============================] - 204s 261ms/step - loss: 0.5915 - accuracy: 0.7969 - val_loss: 0.6302 - val_accuracy: 0.7915\n",
      "Epoch 7/20\n",
      "782/782 [==============================] - 431s 550ms/step - loss: 0.5488 - accuracy: 0.8117 - val_loss: 0.6054 - val_accuracy: 0.7996\n",
      "Epoch 8/20\n",
      "782/782 [==============================] - 221s 283ms/step - loss: 0.5082 - accuracy: 0.8254 - val_loss: 0.5649 - val_accuracy: 0.8083\n",
      "Epoch 9/20\n",
      "782/782 [==============================] - 218s 278ms/step - loss: 0.4770 - accuracy: 0.8350 - val_loss: 0.5654 - val_accuracy: 0.8123\n",
      "Epoch 10/20\n",
      "782/782 [==============================] - 218s 278ms/step - loss: 0.4510 - accuracy: 0.8441 - val_loss: 0.5959 - val_accuracy: 0.8037\n",
      "Epoch 11/20\n",
      "782/782 [==============================] - 214s 273ms/step - loss: 0.4248 - accuracy: 0.8511 - val_loss: 0.5384 - val_accuracy: 0.8238\n",
      "Epoch 12/20\n",
      "782/782 [==============================] - 213s 273ms/step - loss: 0.4050 - accuracy: 0.8590 - val_loss: 0.4983 - val_accuracy: 0.8330\n",
      "Epoch 13/20\n",
      "782/782 [==============================] - 344s 440ms/step - loss: 0.3889 - accuracy: 0.8647 - val_loss: 0.4981 - val_accuracy: 0.8370\n",
      "Epoch 14/20\n",
      "782/782 [==============================] - 212s 271ms/step - loss: 0.3683 - accuracy: 0.8696 - val_loss: 0.5129 - val_accuracy: 0.8324\n",
      "Epoch 15/20\n",
      "782/782 [==============================] - 213s 272ms/step - loss: 0.3499 - accuracy: 0.8782 - val_loss: 0.4806 - val_accuracy: 0.8454\n",
      "Epoch 16/20\n",
      "782/782 [==============================] - 198s 253ms/step - loss: 0.3322 - accuracy: 0.8842 - val_loss: 0.5038 - val_accuracy: 0.8345\n",
      "Epoch 17/20\n",
      "782/782 [==============================] - 238s 304ms/step - loss: 0.3269 - accuracy: 0.8846 - val_loss: 0.5094 - val_accuracy: 0.8389\n",
      "Epoch 18/20\n",
      "782/782 [==============================] - 226s 289ms/step - loss: 0.3088 - accuracy: 0.8898 - val_loss: 0.5074 - val_accuracy: 0.8426\n",
      "Epoch 19/20\n",
      "782/782 [==============================] - 205s 262ms/step - loss: 0.3016 - accuracy: 0.8934 - val_loss: 0.5335 - val_accuracy: 0.8302\n",
      "Epoch 20/20\n",
      "782/782 [==============================] - 203s 259ms/step - loss: 0.2903 - accuracy: 0.8970 - val_loss: 0.4722 - val_accuracy: 0.8515\n",
      "Test loss: 0.47223490476608276\n",
      "Test accuracy: 0.8514999747276306\n"
     ]
    }
   ],
   "source": [
    "model.compile(loss='categorical_crossentropy',\n",
    "                  optimizer=K.optimizers.RMSprop(lr=2e-5),\n",
    "                  metrics=['accuracy'])\n",
    "model.fit(x_train, y_train, batch_size=64, epochs=20, verbose=1, validation_data=(x_test, y_test),shuffle=True)\n",
    "score = model.evaluate(x_test, y_test, verbose=0)\n",
    "print('Test loss:', score[0])\n",
    "print('Test accuracy:', score[1])"
   ]
  },
  {
   "cell_type": "code",
   "execution_count": null,
   "id": "4bd98400",
   "metadata": {
    "id": "4bd98400"
   },
   "outputs": [],
   "source": []
  }
 ],
 "metadata": {
  "colab": {
   "provenance": []
  },
  "kernelspec": {
   "display_name": "Python 3 (ipykernel)",
   "language": "python",
   "name": "python3"
  },
  "language_info": {
   "codemirror_mode": {
    "name": "ipython",
    "version": 3
   },
   "file_extension": ".py",
   "mimetype": "text/x-python",
   "name": "python",
   "nbconvert_exporter": "python",
   "pygments_lexer": "ipython3",
   "version": "3.9.12"
  }
 },
 "nbformat": 4,
 "nbformat_minor": 5
}
